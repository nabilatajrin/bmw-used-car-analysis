{
 "cells": [
  {
   "cell_type": "markdown",
   "metadata": {},
   "source": [
    "# Lecture 02: Data Visualization: Bar plot\n",
    "\n",
    "Submitted by:\n",
    "<br>Nabila Tajrin Bristy\n",
    "<br>Dhaka, Bangladesh\n",
    "\n",
    "#### Tasks:\n",
    "- Create a figure of barplot that will contain multiple subplots. Each subplot will represent a column.\n",
    "- Make sure you have a proper title, xlabel, ylabel, xticks, yticks, and figure size which will represent an example of good data visualization.\n",
    "- Use the Markdown cell for proper commenting and make sure the code easily understandable. Use the .head() or .tail() method when necessary rather than displaying all the rows in the dataframe.\n",
    "- Make sure your code is reusable and reproducible. \n",
    "\n",
    "#### References:\n",
    "- Dataset: https://github.com/SKawsar/Data_Visualization_with_Python"
   ]
  },
  {
   "cell_type": "code",
   "execution_count": 1,
   "metadata": {},
   "outputs": [],
   "source": [
    "import pandas as pd\n",
    "import numpy as np\n",
    "import matplotlib.pyplot as plt\n",
    "import seaborn as sns"
   ]
  },
  {
   "cell_type": "code",
   "execution_count": null,
   "metadata": {},
   "outputs": [],
   "source": [
    "# read the bmw.csv file \n",
    "df = pd.read_csv(\"ford.csv\")\n",
    "\n",
    "# check the first 5 rows\n",
    "display(df.head())\n",
    "\n",
    "# check the last 5 rows\n",
    "display(df.tail())"
   ]
  }
 ],
 "metadata": {
  "kernelspec": {
   "display_name": "Python 3",
   "language": "python",
   "name": "python3"
  },
  "language_info": {
   "codemirror_mode": {
    "name": "ipython",
    "version": 3
   },
   "file_extension": ".py",
   "mimetype": "text/x-python",
   "name": "python",
   "nbconvert_exporter": "python",
   "pygments_lexer": "ipython3",
   "version": "3.6.9"
  }
 },
 "nbformat": 4,
 "nbformat_minor": 2
}
